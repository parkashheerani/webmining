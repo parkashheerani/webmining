{
 "cells": [
  {
   "cell_type": "code",
   "execution_count": 3,
   "metadata": {},
   "outputs": [],
   "source": [
    "import csv\n",
    "import nltk\n",
    "from nltk.tokenize import sent_tokenize,word_tokenize"
   ]
  },
  {
   "cell_type": "code",
   "execution_count": 4,
   "metadata": {},
   "outputs": [],
   "source": [
    "#function that loads a lexicon of positive words to a set and returns the set\n",
    "def loadLexicon(fname):\n",
    "    newLex=set()\n",
    "    lex_conn=open(fname)\n",
    "    \n",
    "    #add every word in the file to the set\n",
    "    for line in lex_conn:\n",
    "        newLex.add(line.strip())# remember to strip to remove the lin-change character\n",
    "    lex_conn.close()\n",
    "\n",
    "    return newLex\n"
   ]
  },
  {
   "cell_type": "code",
   "execution_count": 5,
   "metadata": {},
   "outputs": [],
   "source": [
    "def getOpinions(input_file, feature_num):\n",
    "    \n",
    "    #load the positive and negative lexicons into sets\n",
    "    posLex=loadLexicon('positive-words.txt')\n",
    "    negLex=loadLexicon('negative-words.txt')\n",
    "\n",
    "    noun_sentiment={}#maps each noun to the number of times it appears in the same sentence as a positive or negative word\n",
    "        \n",
    "    fin=open(input_file,encoding='utf8')\n",
    "\n",
    "    reader=csv.reader(fin)\n",
    "    \n",
    "    for line in reader: # for each review\n",
    "\n",
    "        text,rating=line # get the text and rating\n",
    "    \n",
    "        sentences=sent_tokenize(text) # split the review into sentences\n",
    "\n",
    "        for sentence in sentences: # for each sentence\n",
    "        \n",
    "            words=word_tokenize(sentence) # split the review into words\n",
    "        \n",
    "            tagged_words=nltk.pos_tag(words) # POS tagging for the words in the sentence\n",
    "    \n",
    "            nouns_in_sentence=set() # set of all the nouns in the sentence\n",
    "        \n",
    "            sentiment_word_count=0 # number of positive or negative words in the sentence\n",
    "        \n",
    "            #https://www.ling.upenn.edu/courses/Fall_2003/ling001/penn_treebank_pos.html\n",
    "    \n",
    "            for tagged_word in tagged_words:\n",
    "            \n",
    "                if tagged_word[1].startswith('NN'): # if the word is a noun\n",
    "\n",
    "                    noun=tagged_word[0].lower() # lower case the noun\n",
    "                    \n",
    "                    if len(noun)<3:continue # ignore nouns with less than 3 characters\n",
    "                                \n",
    "                    nouns_in_sentence.add(noun) # add the noun to the set\n",
    "                \n",
    "                if tagged_word[1].startswith('JJ') and (tagged_word[0] in posLex or tagged_word[0] in negLex): \n",
    "                    sentiment_word_count+=1\n",
    "                  \n",
    "                    \n",
    "                    \n",
    "                prev_word=tagged_word\n",
    "        \n",
    "            for noun in nouns_in_sentence: # for each noun that we found in the sentence\n",
    "                noun_sentiment[noun]=noun_sentiment.get(noun,0)+sentiment_word_count\n",
    "\n",
    "    fin.close()\n",
    "\n",
    "    #sort noun based on their total polarity counts (pos+neg)\n",
    "    sorted_nouns=sorted(noun_sentiment.items(),key=lambda x:x[1],reverse=True)\n",
    "\n",
    "    \n",
    "    #get the top feature_num features\n",
    "    top=sorted_nouns[:feature_num]\n",
    "\n",
    "    return top"
   ]
  },
  {
   "cell_type": "code",
   "execution_count": 6,
   "metadata": {},
   "outputs": [
    {
     "name": "stdout",
     "output_type": "stream",
     "text": [
      "('sound', 148)\n",
      "('headphones', 140)\n",
      "('quality', 93)\n",
      "('anc', 83)\n",
      "('sennheiser', 72)\n",
      "('bose', 61)\n",
      "('bass', 47)\n",
      "('noise', 41)\n",
      "('case', 37)\n",
      "('momentum', 36)\n",
      "('music', 36)\n",
      "('sony', 34)\n",
      "('battery', 32)\n",
      "('app', 31)\n",
      "('way', 27)\n"
     ]
    }
   ],
   "source": [
    "result=getOpinions('amazonreviews.csv',15)\n",
    "\n",
    "for noun in result:\n",
    "    print(noun)\n"
   ]
  },
  {
   "cell_type": "code",
   "execution_count": null,
   "metadata": {},
   "outputs": [],
   "source": []
  },
  {
   "cell_type": "code",
   "execution_count": null,
   "metadata": {},
   "outputs": [],
   "source": []
  }
 ],
 "metadata": {
  "kernelspec": {
   "display_name": "Python 3 (ipykernel)",
   "language": "python",
   "name": "python3"
  },
  "language_info": {
   "codemirror_mode": {
    "name": "ipython",
    "version": 3
   },
   "file_extension": ".py",
   "mimetype": "text/x-python",
   "name": "python",
   "nbconvert_exporter": "python",
   "pygments_lexer": "ipython3",
   "version": "3.9.12"
  }
 },
 "nbformat": 4,
 "nbformat_minor": 4
}
