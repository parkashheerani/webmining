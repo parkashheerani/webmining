{
 "cells": [
  {
   "cell_type": "code",
   "execution_count": 1,
   "id": "063b7bfe",
   "metadata": {},
   "outputs": [],
   "source": [
    "from sklearn.metrics import accuracy_score\n",
    "from sklearn.tree import DecisionTreeClassifier\n",
    "from sklearn.metrics import accuracy_score,confusion_matrix\n",
    "from sklearn.neighbors import KNeighborsClassifier\n",
    "from sklearn.ensemble import VotingClassifier\n",
    "from sklearn.model_selection import GridSearchCV\n",
    "from sklearn.naive_bayes import MultinomialNB\n",
    "import pandas as pd\n",
    "from sklearn.model_selection import train_test_split\n",
    "import pandas as pd"
   ]
  },
  {
   "cell_type": "code",
   "execution_count": 2,
   "id": "916b696a",
   "metadata": {},
   "outputs": [],
   "source": [
    "med=pd.read_csv('medical/medical_data.csv')\n"
   ]
  },
  {
   "cell_type": "code",
   "execution_count": 3,
   "id": "e7b1ff24",
   "metadata": {},
   "outputs": [],
   "source": [
    "train_data, test_data = train_test_split(med, test_size=0.3)\n",
    "\n",
    "train_symptoms=train_data.drop(columns=['diagnosis'])\n",
    "train_labels=train_data['diagnosis']               \n",
    "    \n",
    "test_symptoms=test_data.drop(columns=['diagnosis'])\n",
    "test_labels=test_data['diagnosis']               \n",
    "    \n"
   ]
  },
  {
   "cell_type": "code",
   "execution_count": 4,
   "id": "d08763a9",
   "metadata": {},
   "outputs": [],
   "source": [
    "DT = DecisionTreeClassifier()\n",
    "KNN = KNeighborsClassifier()\n",
    "MNB = MultinomialNB()\n"
   ]
  },
  {
   "cell_type": "code",
   "execution_count": 5,
   "id": "ea4fac48",
   "metadata": {},
   "outputs": [
    {
     "name": "stdout",
     "output_type": "stream",
     "text": [
      "{'n_neighbors': 11, 'weights': 'uniform'}\n",
      "0.8166666666666667\n"
     ]
    }
   ],
   "source": [
    "\n",
    "#=======================================================================================\n",
    "#build the parameter grid\n",
    "KNN_grid = [{'n_neighbors': [1,3,5,7,9,11,13,15,17], 'weights':['uniform','distance']}]\n",
    "\n",
    "#build a grid search to find the best parameters\n",
    "gridsearchKNN = GridSearchCV(KNN, KNN_grid, cv=5)\n",
    "\n",
    "#run the grid search\n",
    "gridsearchKNN.fit(train_symptoms,train_labels)\n",
    "\n",
    "#=======================================================================================\n",
    "\n",
    "#best parameters\n",
    "print(gridsearchKNN.best_params_)\n",
    "\n",
    "#predictions using the best parameters\n",
    "KNN_pred=gridsearchKNN.predict(test_symptoms)\n",
    "print(accuracy_score(KNN_pred,test_labels))\n"
   ]
  },
  {
   "cell_type": "code",
   "execution_count": 6,
   "id": "c1cfecbf",
   "metadata": {},
   "outputs": [
    {
     "name": "stdout",
     "output_type": "stream",
     "text": [
      "{'criterion': 'gini', 'max_depth': 6}\n",
      "0.82\n"
     ]
    }
   ],
   "source": [
    "\n",
    "#build the parameter grid\n",
    "DT_grid = [{'max_depth': [3,4,5,6,7,8,9,10,11,12],'criterion':['gini','entropy']}]\n",
    "\n",
    "#build a grid search to find the best parameters\n",
    "gridsearchDT  = GridSearchCV(DT, DT_grid, cv=5)\n",
    "\n",
    "#run the grid search\n",
    "gridsearchDT.fit(train_symptoms,train_labels)\n",
    "\n",
    "print(gridsearchDT.best_params_)\n",
    "\n",
    "#predictions using the best parameters\n",
    "DT_pred=gridsearchDT.predict(test_symptoms)\n",
    "print(accuracy_score(DT_pred,test_labels))"
   ]
  },
  {
   "cell_type": "code",
   "execution_count": 7,
   "id": "c1fb2d7d",
   "metadata": {},
   "outputs": [
    {
     "name": "stdout",
     "output_type": "stream",
     "text": [
      "{'alpha': 2, 'fit_prior': True}\n",
      "0.8283333333333334\n"
     ]
    }
   ],
   "source": [
    "\n",
    "#=======================================================================================\n",
    "\n",
    "#build the parameter grid\n",
    "MNB_grid = [ {'alpha':[0.5,1,1.5,2],'fit_prior':[True,False]}]\n",
    "\n",
    "#build a grid search to find the best parameters\n",
    "gridsearchMNB  = GridSearchCV(MNB, MNB_grid, cv=5)\n",
    "\n",
    "#run the grid search\n",
    "gridsearchMNB.fit(train_symptoms,train_labels)\n",
    "\n",
    "#=======================================================================================\n",
    "\n",
    "print(gridsearchMNB.best_params_)\n",
    "\n",
    "#predictions using the best parameters\n",
    "MNB_pred=gridsearchMNB.predict(test_symptoms)\n",
    "print(accuracy_score(MNB_pred,test_labels))"
   ]
  },
  {
   "cell_type": "code",
   "execution_count": 8,
   "id": "95953b97",
   "metadata": {},
   "outputs": [
    {
     "name": "stdout",
     "output_type": "stream",
     "text": [
      "0.8266666666666667\n"
     ]
    }
   ],
   "source": [
    "#combining Voting with Gridsearch\n",
    "predictors=[('dt', DT),('knn', KNN),('mnb', MNB)]\n",
    "\n",
    "# Create a joint grid for all 3 models. Use the name of the model followed by a __ as a prefix for each parameter name\n",
    "voting_grid = {\n",
    "    'knn__n_neighbors': [1,3,5,7,9], \n",
    "    'knn__weights':['uniform','distance'],\n",
    "    'mnb__alpha':[0.5,1,1.5,2],\n",
    "    'mnb__fit_prior':[True,False],\n",
    "    'dt__max_depth': [3,4,5,6,7],\n",
    "    'dt__criterion':['gini','entropy']}\n",
    "    \n",
    "VT=VotingClassifier(predictors)\n",
    "\n",
    "VT_tuned = GridSearchCV(VT, voting_grid, cv=5)\n",
    "\n",
    "VT_tuned.fit(train_symptoms,train_labels)\n",
    "\n",
    "#use the VT classifier to predict\n",
    "predicted=VT_tuned.predict(test_symptoms)\n",
    "\n",
    "#print the accuracy\n",
    "print (accuracy_score(predicted,test_labels))\n",
    "\n",
    "\n"
   ]
  },
  {
   "cell_type": "code",
   "execution_count": null,
   "id": "d16b3975",
   "metadata": {},
   "outputs": [],
   "source": []
  },
  {
   "cell_type": "code",
   "execution_count": null,
   "id": "764faa23",
   "metadata": {},
   "outputs": [],
   "source": []
  },
  {
   "cell_type": "code",
   "execution_count": null,
   "id": "50932211",
   "metadata": {},
   "outputs": [],
   "source": []
  },
  {
   "cell_type": "code",
   "execution_count": null,
   "id": "f4d17842",
   "metadata": {},
   "outputs": [],
   "source": []
  }
 ],
 "metadata": {
  "kernelspec": {
   "display_name": "Python 3 (ipykernel)",
   "language": "python",
   "name": "python3"
  },
  "language_info": {
   "codemirror_mode": {
    "name": "ipython",
    "version": 3
   },
   "file_extension": ".py",
   "mimetype": "text/x-python",
   "name": "python",
   "nbconvert_exporter": "python",
   "pygments_lexer": "ipython3",
   "version": "3.10.9"
  }
 },
 "nbformat": 4,
 "nbformat_minor": 5
}
