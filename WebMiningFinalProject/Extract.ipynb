{
 "cells": [
  {
   "cell_type": "code",
   "execution_count": null,
   "metadata": {},
   "outputs": [],
   "source": [
    "from selenium import webdriver\n",
    "from selenium.webdriver.support.ui import WebDriverWait\n",
    "from selenium.webdriver.support import expected_conditions as EC\n",
    "from selenium.webdriver.common.by import By\n",
    "import re, time,csv\n",
    "from selenium.common.exceptions import NoSuchElementException\n",
    "from selenium.webdriver.chrome.service import Service\n",
    "from webdriver_manager.chrome import ChromeDriverManager\n",
    "import json\n",
    "\n",
    "outfile=open('output.json','w')"
   ]
  },
  {
   "cell_type": "code",
   "execution_count": null,
   "metadata": {},
   "outputs": [],
   "source": [
    "def write_row(results):\n",
    "    \n",
    "    res = []\n",
    "    for result in results:\n",
    "        try:\n",
    "            interview_title_box = result.find_element(by=By.CSS_SELECTOR, value='h2.mt-0.mb-xxsm.css-93svrw.el6ke055')\n",
    "            interview_title = interview_title_box.text\n",
    "        except NoSuchElementException as e:\n",
    "            print('Could not extract Interview Title')\n",
    "        \n",
    "        try:\n",
    "            date_box = result.find_element(by=By.CSS_SELECTOR, value='time')\n",
    "            date = date_box.text\n",
    "        except NoSuchElementException as e:\n",
    "            print('Could not extract Interview Title')\n",
    "        \n",
    "        arr = []\n",
    "        try:\n",
    "            arr=result.find_elements(by=By.CSS_SELECTOR,value='span.mb-xxsm')\n",
    "        except:\n",
    "            print(\"Could not get the Offer, Experience and Interview ratings\")\n",
    "        \n",
    "        try:\n",
    "            offer_acceptance = arr[0].text\n",
    "            experience_rating = arr[1].text\n",
    "            interview_rating = arr[2].text\n",
    "        except:\n",
    "            print('Could not add anything')\n",
    "\n",
    "        try:\n",
    "            interview_process_block = result.find_elements(by=By.CSS_SELECTOR, value='p')\n",
    "            interview_process = interview_process_block[3].text\n",
    "        except:\n",
    "            print(\"Could not get interview process text\")\n",
    "\n",
    "    \n",
    "        dictionary = {\n",
    "            \"interview_title\": interview_title,\n",
    "            \"date\": date,\n",
    "            \"offer_acceptance\": offer_acceptance,\n",
    "            \"experience_rating\": experience_rating,\n",
    "            \"interview_rating\": interview_rating,\n",
    "            \"interview_process\": interview_process\n",
    "        }\n",
    "        res.append(dictionary)\n",
    "    return res\n",
    "\n",
    "        "
   ]
  },
  {
   "cell_type": "code",
   "execution_count": null,
   "metadata": {},
   "outputs": [],
   "source": []
  },
  {
   "cell_type": "code",
   "execution_count": null,
   "metadata": {
    "scrolled": true
   },
   "outputs": [],
   "source": [
    "# defining credentials\n",
    "email = \"Enter email here\"\n",
    "password = \"Enter password here\"\n",
    "\n",
    "# setting up  google chrome driver\n",
    "options = webdriver.ChromeOptions()\n",
    "options.add_argument(\"user-data-dir=/Users/parkashheerani/Library/Application Support/Google/Chrome/Default\")\n",
    "driver = webdriver.Chrome(options=options)\n",
    "\n",
    "# going to microsoft page\n",
    "time.sleep(1)\n",
    "url = 'https://www.glassdoor.com/Interview/Microsoft-Interview-Questions-E1651_P1.htm'\n",
    "driver.get(url)\n",
    "\n",
    "# clicking on login page\n",
    "time.sleep(2)\n",
    "try:\n",
    "    driver.find_element(by=By.CSS_SELECTOR, value = \"div[class='d-none d-lg-block']\").click()\n",
    "except:\n",
    "    pass\n",
    "\n",
    "# Log in to Glassdoor\n",
    "\n",
    "try:\n",
    "    driver.find_element('name', 'username')\n",
    "    email_input = driver.find_element('name', \"username\")\n",
    "    email_input.send_keys(email)\n",
    "    driver.find_element(\"name\", 'submit').click()\n",
    "    time.sleep(5)\n",
    "\n",
    "    password_input = driver.find_element('name', \"password\")\n",
    "    password_input.send_keys(password)\n",
    "    driver.find_element(\"name\", 'submit').click()\n",
    "except:\n",
    "    pass\n",
    "# and the work begings\n",
    "\n",
    "\n",
    "orig_url = url.partition(\"_\")[0]\n",
    "\n",
    "dictionary_list = []\n",
    " # visit the page\n",
    "\n",
    "page_cnt=1 # keep track of page count\n",
    "\n",
    "while True: # keep going until there are no more pages\n",
    "    \n",
    "    try:\n",
    "        driver.get(orig_url +\"_P\" + str(page_cnt) + \".htm\")\n",
    "        if page_cnt != 1:\n",
    "            time.sleep(5)\n",
    "        print('page',page_cnt) # print current page count\n",
    "\n",
    "         # increment \n",
    "\n",
    "        #extract and write the links from the current page\n",
    "        results=driver.find_elements(by=By.CSS_SELECTOR,value='div.mt-0.mb-0.my-md-std.p-std.gd-ui-module.css-cup1a5.ec4dwm00')\n",
    "        dictionary_list = dictionary_list + write_row(results)\n",
    "\n",
    "        #wait until the next button appears   \n",
    "                                                                   \n",
    "        next_button = WebDriverWait(driver, 5).until(EC.element_to_be_clickable((By.CSS_SELECTOR, 'button.nextButton.css-1iiwzeb.e13qs2072')))\n",
    "        page_cnt+=1\n",
    "\n",
    "        with open(\"output.json\", \"w\") as outfile:\n",
    "            json.dump(dictionary_list, outfile)\n",
    "            if len(dictionary_list) > 1:\n",
    "                print('Successfully Added')\n",
    "            else:\n",
    "                print('Couldnt add')\n",
    "                print(dictionary_list)\n",
    "            \n",
    "\n",
    "    except:\n",
    "        # Log in to Glassdoor\n",
    "        try:\n",
    "            driver.find_element('name', 'username')\n",
    "            email_input = driver.find_element('name', \"username\")\n",
    "            email_input.send_keys(email)\n",
    "            driver.find_element(\"name\", 'submit').click()\n",
    "            time.sleep(5)\n",
    "\n",
    "            password_input = driver.find_element('name', \"password\")\n",
    "            password_input.send_keys(password)\n",
    "            driver.find_element(\"name\", 'submit').click()\n",
    "        except:\n",
    "            print('No more pages')\n",
    "            continue\n",
    "    if page_cnt > 1300:\n",
    "        break\n",
    "        "
   ]
  },
  {
   "cell_type": "code",
   "execution_count": null,
   "metadata": {},
   "outputs": [],
   "source": [
    "import pandas as pd"
   ]
  },
  {
   "cell_type": "code",
   "execution_count": null,
   "metadata": {},
   "outputs": [],
   "source": [
    "df = pd.read_json('output.json')"
   ]
  },
  {
   "cell_type": "code",
   "execution_count": null,
   "metadata": {},
   "outputs": [],
   "source": [
    "df.shape"
   ]
  },
  {
   "cell_type": "code",
   "execution_count": null,
   "metadata": {},
   "outputs": [],
   "source": []
  },
  {
   "cell_type": "code",
   "execution_count": null,
   "metadata": {},
   "outputs": [],
   "source": [
    "df.dropna(inplace = True)\n",
    "df.drop_duplicates(inplace = True)"
   ]
  },
  {
   "cell_type": "code",
   "execution_count": null,
   "metadata": {},
   "outputs": [],
   "source": [
    "df.shape"
   ]
  },
  {
   "cell_type": "code",
   "execution_count": null,
   "metadata": {},
   "outputs": [],
   "source": [
    "df.head()"
   ]
  },
  {
   "cell_type": "code",
   "execution_count": null,
   "metadata": {},
   "outputs": [],
   "source": [
    "df.to_csv('data.csv')"
   ]
  },
  {
   "cell_type": "code",
   "execution_count": null,
   "metadata": {},
   "outputs": [],
   "source": []
  }
 ],
 "metadata": {
  "kernelspec": {
   "display_name": "Python 3 (ipykernel)",
   "language": "python",
   "name": "python3"
  },
  "language_info": {
   "codemirror_mode": {
    "name": "ipython",
    "version": 3
   },
   "file_extension": ".py",
   "mimetype": "text/x-python",
   "name": "python",
   "nbconvert_exporter": "python",
   "pygments_lexer": "ipython3",
   "version": "3.10.9"
  }
 },
 "nbformat": 4,
 "nbformat_minor": 2
}
