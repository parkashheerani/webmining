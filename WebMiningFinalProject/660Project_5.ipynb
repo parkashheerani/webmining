{
 "cells": [
  {
   "cell_type": "code",
   "execution_count": 2,
   "id": "576d7787",
   "metadata": {},
   "outputs": [],
   "source": [
    "import pandas as pd\n",
    "from sklearn.feature_extraction.text import CountVectorizer, TfidfVectorizer\n",
    "from sklearn.model_selection import train_test_split, GridSearchCV\n",
    "from sklearn.metrics import accuracy_score, f1_score\n",
    "from sklearn.linear_model import LogisticRegression\n",
    "from sklearn.naive_bayes import MultinomialNB\n",
    "from sklearn.tree import DecisionTreeClassifier\n",
    "from sklearn.ensemble import RandomForestClassifier, GradientBoostingClassifier\n",
    "import xgboost as xgb\n",
    "\n",
    "import warnings\n",
    "warnings.filterwarnings('ignore')"
   ]
  },
  {
   "cell_type": "code",
   "execution_count": 3,
   "id": "c9856550",
   "metadata": {},
   "outputs": [
    {
     "data": {
      "text/html": [
       "<div>\n",
       "<style scoped>\n",
       "    .dataframe tbody tr th:only-of-type {\n",
       "        vertical-align: middle;\n",
       "    }\n",
       "\n",
       "    .dataframe tbody tr th {\n",
       "        vertical-align: top;\n",
       "    }\n",
       "\n",
       "    .dataframe thead th {\n",
       "        text-align: right;\n",
       "    }\n",
       "</style>\n",
       "<table border=\"1\" class=\"dataframe\">\n",
       "  <thead>\n",
       "    <tr style=\"text-align: right;\">\n",
       "      <th></th>\n",
       "      <th>interview_title</th>\n",
       "      <th>date</th>\n",
       "      <th>offer_acceptance</th>\n",
       "      <th>experience_rating</th>\n",
       "      <th>interview_rating</th>\n",
       "      <th>interview_process</th>\n",
       "    </tr>\n",
       "  </thead>\n",
       "  <tbody>\n",
       "    <tr>\n",
       "      <th>30</th>\n",
       "      <td>Customer Success Manager Interview</td>\n",
       "      <td>2021-09-10</td>\n",
       "      <td>No Offer</td>\n",
       "      <td>Positive Experience</td>\n",
       "      <td>Average Interview</td>\n",
       "      <td>First interview completed so far, haven't been...</td>\n",
       "    </tr>\n",
       "    <tr>\n",
       "      <th>31</th>\n",
       "      <td>Sr. Software engineering Manager Interview</td>\n",
       "      <td>2023-04-26</td>\n",
       "      <td>Accepted Offer</td>\n",
       "      <td>Positive Experience</td>\n",
       "      <td>Average Interview</td>\n",
       "      <td>- 30 min chat with recruiter, both decided to ...</td>\n",
       "    </tr>\n",
       "    <tr>\n",
       "      <th>32</th>\n",
       "      <td>Software Engineer Interview</td>\n",
       "      <td>2023-04-25</td>\n",
       "      <td>No Offer</td>\n",
       "      <td>Positive Experience</td>\n",
       "      <td>Average Interview</td>\n",
       "      <td>Great process - I had a coding interview and a...</td>\n",
       "    </tr>\n",
       "    <tr>\n",
       "      <th>33</th>\n",
       "      <td>Product Manager Interview</td>\n",
       "      <td>2023-04-25</td>\n",
       "      <td>No Offer</td>\n",
       "      <td>Positive Experience</td>\n",
       "      <td>Average Interview</td>\n",
       "      <td>Fair and reasonable. Focus on accessibility. D...</td>\n",
       "    </tr>\n",
       "    <tr>\n",
       "      <th>34</th>\n",
       "      <td>Executive Assistant Interview</td>\n",
       "      <td>2023-04-25</td>\n",
       "      <td>Accepted Offer</td>\n",
       "      <td>Neutral Experience</td>\n",
       "      <td>Average Interview</td>\n",
       "      <td>Interview process was long but worth it. I bel...</td>\n",
       "    </tr>\n",
       "  </tbody>\n",
       "</table>\n",
       "</div>"
      ],
      "text/plain": [
       "                               interview_title       date offer_acceptance  \\\n",
       "30          Customer Success Manager Interview 2021-09-10         No Offer   \n",
       "31  Sr. Software engineering Manager Interview 2023-04-26   Accepted Offer   \n",
       "32                 Software Engineer Interview 2023-04-25         No Offer   \n",
       "33                   Product Manager Interview 2023-04-25         No Offer   \n",
       "34               Executive Assistant Interview 2023-04-25   Accepted Offer   \n",
       "\n",
       "      experience_rating   interview_rating  \\\n",
       "30  Positive Experience  Average Interview   \n",
       "31  Positive Experience  Average Interview   \n",
       "32  Positive Experience  Average Interview   \n",
       "33  Positive Experience  Average Interview   \n",
       "34   Neutral Experience  Average Interview   \n",
       "\n",
       "                                    interview_process  \n",
       "30  First interview completed so far, haven't been...  \n",
       "31  - 30 min chat with recruiter, both decided to ...  \n",
       "32  Great process - I had a coding interview and a...  \n",
       "33  Fair and reasonable. Focus on accessibility. D...  \n",
       "34  Interview process was long but worth it. I bel...  "
      ]
     },
     "execution_count": 3,
     "metadata": {},
     "output_type": "execute_result"
    }
   ],
   "source": [
    "# Load the data\n",
    "# Load the data\n",
    "data = pd.read_json(\"output.json\")\n",
    "data.dropna(inplace = True)\n",
    "data.head()\n"
   ]
  },
  {
   "cell_type": "code",
   "execution_count": 16,
   "id": "7bcbc3ca",
   "metadata": {},
   "outputs": [],
   "source": [
    "# Preprocess the data\n",
    "data[\"experience_rating\"] = data[\"experience_rating\"].map({\"Positive Experience\": 1, \"Neutral Experience\": 0})\n",
    "data[\"interview_rating\"] = data[\"interview_rating\"].map({\"Easy Interview\": 1, \"Average Interview\": 2, \"Difficult Interview\": 3})\n",
    "X = data[\"interview_process\"]\n",
    "y = data[\"offer_acceptance\"]\n",
    "\n"
   ]
  },
  {
   "cell_type": "code",
   "execution_count": 17,
   "id": "64d6756b",
   "metadata": {},
   "outputs": [],
   "source": [
    "# Split the data into training and testing sets\n",
    "X_train, X_test, y_train, y_test = train_test_split(X, y, test_size=0.3, random_state=42)\n",
    "\n"
   ]
  },
  {
   "cell_type": "code",
   "execution_count": 18,
   "id": "50e73699",
   "metadata": {},
   "outputs": [],
   "source": [
    "# Define the feature extraction methods\n",
    "count_vect = CountVectorizer(stop_words=\"english\", ngram_range=(1,2))\n",
    "tfidf_vect = TfidfVectorizer(stop_words=\"english\", ngram_range=(1,2))\n",
    "\n"
   ]
  },
  {
   "cell_type": "code",
   "execution_count": 19,
   "id": "630267f0",
   "metadata": {},
   "outputs": [],
   "source": [
    "# Extract features from the training set using both methods\n",
    "X_train_count = count_vect.fit_transform(X_train)\n",
    "X_train_tfidf = tfidf_vect.fit_transform(X_train)\n",
    "\n"
   ]
  },
  {
   "cell_type": "code",
   "execution_count": 20,
   "id": "5bd0e80a",
   "metadata": {},
   "outputs": [],
   "source": [
    "# Train and evaluate several classifiers\n",
    "classifiers = [\n",
    "    {\n",
    "        \"name\": \"Logistic Regression\",\n",
    "        \"model\": LogisticRegression(max_iter=1000),\n",
    "        \"params\": {\"C\": [0.1, 1, 10]}\n",
    "    },\n",
    "    {\n",
    "        \"name\": \"Naive Bayes\",\n",
    "        \"model\": MultinomialNB(),\n",
    "        \"params\": {\"alpha\": [0.1, 0.5, 1]}\n",
    "    },\n",
    "    {\n",
    "        \"name\": \"Decision Tree\",\n",
    "        \"model\": DecisionTreeClassifier(),\n",
    "        \"params\": {\"max_depth\": [5, 10, 20]}\n",
    "    },\n",
    "    {\n",
    "        \"name\": \"Random Forest\",\n",
    "        \"model\": RandomForestClassifier(n_estimators=100),\n",
    "        \"params\": {\"max_depth\": [5, 10, 20]}\n",
    "    },\n",
    "    {\n",
    "        \"name\": \"Gradient Boosting\",\n",
    "        \"model\": GradientBoostingClassifier(),\n",
    "        \"params\": {\"n_estimators\": [50, 100, 200]}\n",
    "    },\n",
    "    {\n",
    "        \"name\": \"XGBoost\",\n",
    "        \"model\": xgb.XGBClassifier(),\n",
    "        \"params\": {\"max_depth\": [5, 10, 20], \"learning_rate\": [0.01, 0.1, 1]}\n",
    "    }\n",
    "]\n",
    "\n"
   ]
  },
  {
   "cell_type": "code",
   "execution_count": null,
   "id": "248c8659",
   "metadata": {},
   "outputs": [
    {
     "name": "stdout",
     "output_type": "stream",
     "text": [
      "Training Logistic Regression...\n",
      "Count Vectorizer Accuracy: 0.6457973019716361\n",
      "Count Vectorizer F1 Score: 0.6129211470010166\n",
      "Tfidf Vectorizer Accuracy: 0.6444136976824628\n",
      "Tfidf Vectorizer F1 Score: 0.6162937730249137\n",
      "Training Naive Bayes...\n",
      "Count Vectorizer Accuracy: 0.6312694569353166\n",
      "Count Vectorizer F1 Score: 0.5816468763829895\n",
      "Tfidf Vectorizer Accuracy: 0.6295399515738499\n",
      "Tfidf Vectorizer F1 Score: 0.575927053164404\n",
      "Training Decision Tree...\n",
      "Count Vectorizer Accuracy: 0.5921826357661709\n",
      "Count Vectorizer F1 Score: 0.570468713328316\n",
      "Tfidf Vectorizer Accuracy: 0.5800760982359046\n",
      "Tfidf Vectorizer F1 Score: 0.5559295572215193\n",
      "Training Random Forest...\n",
      "Count Vectorizer Accuracy: 0.5887236250432376\n",
      "Count Vectorizer F1 Score: 0.43742032384261376\n",
      "Tfidf Vectorizer Accuracy: 0.588031822898651\n",
      "Tfidf Vectorizer F1 Score: 0.4359468523821798\n",
      "Training Gradient Boosting...\n"
     ]
    }
   ],
   "source": [
    "for clf in classifiers:\n",
    "    print(f\"Training {clf['name']}...\")\n",
    "    grid_search = GridSearchCV(clf[\"model\"], clf[\"params\"], cv=5, n_jobs=-1)\n",
    "    grid_search.fit(X_train_count, y_train)\n",
    "    y_pred_count = grid_search.predict(count_vect.transform(X_test))\n",
    "    accuracy_count = accuracy_score(y_test, y_pred_count)\n",
    "    f1_count = f1_score(y_test, y_pred_count, average='weighted')\n",
    "    print(f\"Count Vectorizer Accuracy: {accuracy_count}\")\n",
    "    print(f\"Count Vectorizer F1 Score: {f1_count}\")\n",
    "    grid_search.fit(X_train_tfidf, y_train)\n",
    "    y_pred_tfidf = grid_search.predict(tfidf_vect.transform(X_test))\n",
    "    accuracy_tfidf = accuracy_score(y_test, y_pred_tfidf)\n",
    "    f1_tfidf = f1_score(y_test, y_pred_tfidf, average='weighted')\n",
    "    print(f\"Tfidf Vectorizer Accuracy: {accuracy_tfidf}\")\n",
    "    print(f\"Tfidf Vectorizer F1 Score: {f1_tfidf}\")"
   ]
  },
  {
   "cell_type": "code",
   "execution_count": null,
   "id": "847ad551",
   "metadata": {},
   "outputs": [],
   "source": []
  },
  {
   "cell_type": "code",
   "execution_count": null,
   "id": "7c114fc9",
   "metadata": {},
   "outputs": [],
   "source": []
  },
  {
   "cell_type": "code",
   "execution_count": null,
   "id": "234aa2fe",
   "metadata": {},
   "outputs": [],
   "source": []
  },
  {
   "cell_type": "code",
   "execution_count": null,
   "id": "d4d3a426",
   "metadata": {},
   "outputs": [],
   "source": []
  },
  {
   "cell_type": "code",
   "execution_count": null,
   "id": "4afbe62f",
   "metadata": {},
   "outputs": [],
   "source": []
  },
  {
   "cell_type": "code",
   "execution_count": null,
   "id": "18340896",
   "metadata": {},
   "outputs": [],
   "source": []
  },
  {
   "cell_type": "code",
   "execution_count": null,
   "id": "d51e35fb",
   "metadata": {},
   "outputs": [],
   "source": []
  },
  {
   "cell_type": "code",
   "execution_count": null,
   "id": "1c10b800",
   "metadata": {},
   "outputs": [],
   "source": []
  },
  {
   "cell_type": "code",
   "execution_count": null,
   "id": "134968b0",
   "metadata": {},
   "outputs": [],
   "source": []
  },
  {
   "cell_type": "code",
   "execution_count": null,
   "id": "ecb3e5d4",
   "metadata": {},
   "outputs": [],
   "source": []
  },
  {
   "cell_type": "code",
   "execution_count": null,
   "id": "662c9285",
   "metadata": {},
   "outputs": [],
   "source": []
  },
  {
   "cell_type": "code",
   "execution_count": null,
   "id": "6fd89fec",
   "metadata": {},
   "outputs": [],
   "source": []
  },
  {
   "cell_type": "code",
   "execution_count": null,
   "id": "6c89cb83",
   "metadata": {},
   "outputs": [],
   "source": []
  }
 ],
 "metadata": {
  "kernelspec": {
   "display_name": "Python 3 (ipykernel)",
   "language": "python",
   "name": "python3"
  },
  "language_info": {
   "codemirror_mode": {
    "name": "ipython",
    "version": 3
   },
   "file_extension": ".py",
   "mimetype": "text/x-python",
   "name": "python",
   "nbconvert_exporter": "python",
   "pygments_lexer": "ipython3",
   "version": "3.10.9"
  }
 },
 "nbformat": 4,
 "nbformat_minor": 5
}
