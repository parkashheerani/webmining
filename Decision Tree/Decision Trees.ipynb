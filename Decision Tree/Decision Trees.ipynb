{
 "cells": [
  {
   "cell_type": "code",
   "execution_count": 23,
   "id": "cfd0c118",
   "metadata": {},
   "outputs": [],
   "source": [
    "import pandas as pd\n",
    "import numpy as np\n",
    "import matplotlib.pyplot as plt\n",
    "from sklearn.feature_extraction.text import CountVectorizer\n",
    "from sklearn.model_selection import train_test_split, GridSearchCV\n",
    "from sklearn.metrics import accuracy_score, classification_report, confusion_matrix\n",
    "from sklearn.tree import DecisionTreeClassifier\n",
    "from sklearn.neighbors import KNeighborsClassifier\n",
    "from sklearn.ensemble import RandomForestClassifier, GradientBoostingClassifier, VotingClassifier\n",
    "from xgboost import XGBClassifier\n",
    "\n",
    "import warnings\n",
    "warnings.filterwarnings('ignore')"
   ]
  },
  {
   "cell_type": "code",
   "execution_count": 24,
   "id": "f77b3cb6",
   "metadata": {},
   "outputs": [],
   "source": [
    "\n",
    "#read the reviews and their polarities from a given file\n",
    "def loadData(fname):\n",
    "    reviews=[]\n",
    "    labels=[]\n",
    "    f=open(fname)\n",
    "    for line in f:\n",
    "        review,rating=line.strip().split('\\t')  \n",
    "        reviews.append(review.lower())    \n",
    "        labels.append(int(rating))\n",
    "    f.close()\n",
    "    return reviews,labels\n"
   ]
  },
  {
   "cell_type": "code",
   "execution_count": 25,
   "id": "ee8914aa",
   "metadata": {},
   "outputs": [],
   "source": [
    "X_train,y_train=loadData('reviews_train.txt')\n",
    "X_test,y_test=loadData('reviews_test.txt')\n",
    "\n",
    "counter = CountVectorizer()\n",
    "counter.fit(rev_train)\n",
    "\n",
    "\n",
    "X_train = counter.transform(rev_train)\n",
    "X_test = counter.transform(rev_test)"
   ]
  },
  {
   "cell_type": "code",
   "execution_count": 26,
   "id": "299e5853",
   "metadata": {},
   "outputs": [
    {
     "name": "stdout",
     "output_type": "stream",
     "text": [
      "DecisionTree\n",
      "{'max_depth': 7, 'min_samples_split': 5}\n",
      "KNeighbors\n",
      "{'n_neighbors': 9, 'weights': 'distance'}\n",
      "RandomForest\n",
      "{'max_depth': None, 'n_estimators': 200}\n",
      "XGB\n",
      "{'max_depth': 3, 'n_estimators': 200}\n",
      "GradientBoosting\n",
      "{'learning_rate': 0.2, 'n_estimators': 200}\n",
      "Accuracy: 0.8733333333333333\n",
      "\n",
      "Classification Report:\n",
      "               precision    recall  f1-score   support\n",
      "\n",
      "           0       0.90      0.83      0.87       148\n",
      "           1       0.85      0.91      0.88       152\n",
      "\n",
      "    accuracy                           0.87       300\n",
      "   macro avg       0.88      0.87      0.87       300\n",
      "weighted avg       0.88      0.87      0.87       300\n",
      "\n"
     ]
    },
    {
     "data": {
      "image/png": "[encoded data removed]",
      "text/plain": [
       "<Figure size 480x480 with 2 Axes>"
      ]
     },
     "metadata": {},
     "output_type": "display_data"
    }
   ],
   "source": [
    "\n",
    "\n",
    "# Define the classifiers and their parameter grids\n",
    "classifiers = [\n",
    "    ('DecisionTree', DecisionTreeClassifier(), {'max_depth': [3, 5, 7], 'min_samples_split': [2, 5]}),\n",
    "    ('KNeighbors', KNeighborsClassifier(), {'n_neighbors': [3, 5, 7, 9, 11], 'weights': ['uniform', 'distance']}),\n",
    "    ('RandomForest', RandomForestClassifier(), {'n_estimators': [100,200, 300, 400, 500], 'max_depth': [None, 3, 5]}),\n",
    "    ('XGB', XGBClassifier(use_label_encoder=False), {'n_estimators': [100,200, 300, 400, 500], 'max_depth': [None, 3, 5]}),\n",
    "    ('GradientBoosting', GradientBoostingClassifier(), {'n_estimators': [100,200, 300, 400, 500], 'learning_rate': [0.1, 0.2]})\n",
    "]\n",
    "\n",
    "optimized_classifiers = []\n",
    "\n",
    "# Perform Grid Search for each classifier\n",
    "for name, classifier, params in classifiers:\n",
    "    grid = GridSearchCV(classifier, params, scoring='accuracy', n_jobs=-1, cv=5)\n",
    "    grid.fit(X_train, y_train)\n",
    "    best_params = grid.best_params_\n",
    "    print(name)\n",
    "    print(best_params)\n",
    "    optimized_classifier = classifier.set_params(**best_params)\n",
    "    optimized_classifiers.append((name, optimized_classifier))\n",
    "\n",
    "# Create a Voting Classifier using optimized classifiers\n",
    "voting_clf = VotingClassifier(optimized_classifiers, voting='hard')\n",
    "\n",
    "# Train the Voting Classifier on the training data\n",
    "voting_clf.fit(X_train, y_train)\n",
    "\n",
    "# Evaluate the Voting Classifier on the test data\n",
    "y_pred = voting_clf.predict(X_test)\n",
    "print(\"Accuracy:\", accuracy_score(y_test, y_pred))\n",
    "print(\"\\nClassification Report:\\n\", classification_report(y_test, y_pred))\n",
    "\n",
    "# Plot the confusion matrix\n",
    "conf_mat = confusion_matrix(y_test, y_pred)\n",
    "plt.matshow(conf_mat, cmap=plt.cm.Blues)\n",
    "plt.xlabel(\"Predicted labels\")\n",
    "plt.ylabel(\"True labels\")\n",
    "plt.title(\"Confusion Matrix\")\n",
    "plt.colorbar()\n",
    "plt.show()\n"
   ]
  },
  {
   "cell_type": "code",
   "execution_count": null,
   "id": "00ba5fac",
   "metadata": {},
   "outputs": [],
   "source": []
  },
  {
   "cell_type": "code",
   "execution_count": null,
   "id": "ad657ef7",
   "metadata": {},
   "outputs": [],
   "source": []
  },
  {
   "cell_type": "code",
   "execution_count": null,
   "id": "2eb6517f",
   "metadata": {},
   "outputs": [],
   "source": []
  }
 ],
 "metadata": {
  "kernelspec": {
   "display_name": "Python 3 (ipykernel)",
   "language": "python",
   "name": "python3"
  },
  "language_info": {
   "codemirror_mode": {
    "name": "ipython",
    "version": 3
   },
   "file_extension": ".py",
   "mimetype": "text/x-python",
   "name": "python",
   "nbconvert_exporter": "python",
   "pygments_lexer": "ipython3",
   "version": "3.10.9"
  }
 },
 "nbformat": 4,
 "nbformat_minor": 5
}
